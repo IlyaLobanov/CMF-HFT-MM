{
 "cells": [
  {
   "cell_type": "code",
   "execution_count": 35,
   "source": [
    "from simulator import Sim\n",
    "from strategy import BestPosStrategy\n",
    "from get_info import get_pnl\n",
    "from load_data import load_md_from_file\n",
    "\n",
    "import pandas as pd\n",
    "import numpy as np\n",
    "from matplotlib import pyplot as plt\n",
    "\n",
    "PATH_TO_FILE = '/Users/ilyalobanov/CMF HFT/HW3/simulator/Data2/lobs.csv'\n",
    "NROWS = 200000"
   ],
   "outputs": [],
   "metadata": {}
  },
  {
   "cell_type": "code",
   "execution_count": 36,
   "source": [
    "data = pd.read_csv('/Users/ilyalobanov/CMF HFT/HW3/simulator/Data2/lobs.csv', nrows=NROWS)\n",
    "data.head()"
   ],
   "outputs": [
    {
     "output_type": "execute_result",
     "data": {
      "text/html": [
       "<div>\n",
       "<style scoped>\n",
       "    .dataframe tbody tr th:only-of-type {\n",
       "        vertical-align: middle;\n",
       "    }\n",
       "\n",
       "    .dataframe tbody tr th {\n",
       "        vertical-align: top;\n",
       "    }\n",
       "\n",
       "    .dataframe thead th {\n",
       "        text-align: right;\n",
       "    }\n",
       "</style>\n",
       "<table border=\"1\" class=\"dataframe\">\n",
       "  <thead>\n",
       "    <tr style=\"text-align: right;\">\n",
       "      <th></th>\n",
       "      <th>receive_ts</th>\n",
       "      <th>exchange_ts</th>\n",
       "      <th>btcusdt:Binance:LinearPerpetual_ask_price_0</th>\n",
       "      <th>btcusdt:Binance:LinearPerpetual_ask_vol_0</th>\n",
       "      <th>btcusdt:Binance:LinearPerpetual_bid_price_0</th>\n",
       "      <th>btcusdt:Binance:LinearPerpetual_bid_vol_0</th>\n",
       "      <th>btcusdt:Binance:LinearPerpetual_ask_price_1</th>\n",
       "      <th>btcusdt:Binance:LinearPerpetual_ask_vol_1</th>\n",
       "      <th>btcusdt:Binance:LinearPerpetual_bid_price_1</th>\n",
       "      <th>btcusdt:Binance:LinearPerpetual_bid_vol_1</th>\n",
       "      <th>...</th>\n",
       "      <th>btcusdt:Binance:LinearPerpetual_bid_price_7</th>\n",
       "      <th>btcusdt:Binance:LinearPerpetual_bid_vol_7</th>\n",
       "      <th>btcusdt:Binance:LinearPerpetual_ask_price_8</th>\n",
       "      <th>btcusdt:Binance:LinearPerpetual_ask_vol_8</th>\n",
       "      <th>btcusdt:Binance:LinearPerpetual_bid_price_8</th>\n",
       "      <th>btcusdt:Binance:LinearPerpetual_bid_vol_8</th>\n",
       "      <th>btcusdt:Binance:LinearPerpetual_ask_price_9</th>\n",
       "      <th>btcusdt:Binance:LinearPerpetual_ask_vol_9</th>\n",
       "      <th>btcusdt:Binance:LinearPerpetual_bid_price_9</th>\n",
       "      <th>btcusdt:Binance:LinearPerpetual_bid_vol_9</th>\n",
       "    </tr>\n",
       "  </thead>\n",
       "  <tbody>\n",
       "    <tr>\n",
       "      <th>0</th>\n",
       "      <td>1655942402250125991</td>\n",
       "      <td>1655942402249000000</td>\n",
       "      <td>19977.5</td>\n",
       "      <td>0.079</td>\n",
       "      <td>19977.4</td>\n",
       "      <td>12.381</td>\n",
       "      <td>19977.8</td>\n",
       "      <td>0.003</td>\n",
       "      <td>19976.7</td>\n",
       "      <td>0.066</td>\n",
       "      <td>...</td>\n",
       "      <td>19975.7</td>\n",
       "      <td>4.455</td>\n",
       "      <td>19980.1</td>\n",
       "      <td>0.01</td>\n",
       "      <td>19975.6</td>\n",
       "      <td>1.529</td>\n",
       "      <td>19980.2</td>\n",
       "      <td>0.01</td>\n",
       "      <td>19975.4</td>\n",
       "      <td>1.641</td>\n",
       "    </tr>\n",
       "    <tr>\n",
       "      <th>1</th>\n",
       "      <td>1655942402657844605</td>\n",
       "      <td>1655942402655000000</td>\n",
       "      <td>19977.5</td>\n",
       "      <td>0.078</td>\n",
       "      <td>19977.4</td>\n",
       "      <td>12.381</td>\n",
       "      <td>19977.8</td>\n",
       "      <td>0.003</td>\n",
       "      <td>19977.3</td>\n",
       "      <td>0.126</td>\n",
       "      <td>...</td>\n",
       "      <td>19975.9</td>\n",
       "      <td>0.246</td>\n",
       "      <td>19980.1</td>\n",
       "      <td>0.01</td>\n",
       "      <td>19975.8</td>\n",
       "      <td>0.686</td>\n",
       "      <td>19980.2</td>\n",
       "      <td>0.01</td>\n",
       "      <td>19975.7</td>\n",
       "      <td>4.455</td>\n",
       "    </tr>\n",
       "    <tr>\n",
       "      <th>2</th>\n",
       "      <td>1655942403346968722</td>\n",
       "      <td>1655942403346000000</td>\n",
       "      <td>19977.5</td>\n",
       "      <td>0.079</td>\n",
       "      <td>19977.4</td>\n",
       "      <td>12.381</td>\n",
       "      <td>19977.8</td>\n",
       "      <td>0.003</td>\n",
       "      <td>19977.3</td>\n",
       "      <td>0.126</td>\n",
       "      <td>...</td>\n",
       "      <td>19975.9</td>\n",
       "      <td>0.246</td>\n",
       "      <td>19980.1</td>\n",
       "      <td>0.01</td>\n",
       "      <td>19975.8</td>\n",
       "      <td>0.686</td>\n",
       "      <td>19980.2</td>\n",
       "      <td>0.01</td>\n",
       "      <td>19975.7</td>\n",
       "      <td>4.455</td>\n",
       "    </tr>\n",
       "    <tr>\n",
       "      <th>3</th>\n",
       "      <td>1655942404080791047</td>\n",
       "      <td>1655942404080000000</td>\n",
       "      <td>19977.5</td>\n",
       "      <td>0.079</td>\n",
       "      <td>19977.4</td>\n",
       "      <td>12.381</td>\n",
       "      <td>19977.8</td>\n",
       "      <td>0.003</td>\n",
       "      <td>19977.3</td>\n",
       "      <td>0.126</td>\n",
       "      <td>...</td>\n",
       "      <td>19975.9</td>\n",
       "      <td>0.246</td>\n",
       "      <td>19980.1</td>\n",
       "      <td>0.01</td>\n",
       "      <td>19975.8</td>\n",
       "      <td>0.686</td>\n",
       "      <td>19980.2</td>\n",
       "      <td>0.01</td>\n",
       "      <td>19975.7</td>\n",
       "      <td>4.455</td>\n",
       "    </tr>\n",
       "    <tr>\n",
       "      <th>4</th>\n",
       "      <td>1655942404452706766</td>\n",
       "      <td>1655942404452000000</td>\n",
       "      <td>19977.5</td>\n",
       "      <td>0.079</td>\n",
       "      <td>19977.4</td>\n",
       "      <td>12.381</td>\n",
       "      <td>19977.8</td>\n",
       "      <td>0.003</td>\n",
       "      <td>19977.3</td>\n",
       "      <td>0.126</td>\n",
       "      <td>...</td>\n",
       "      <td>19975.9</td>\n",
       "      <td>0.246</td>\n",
       "      <td>19980.1</td>\n",
       "      <td>0.01</td>\n",
       "      <td>19975.8</td>\n",
       "      <td>0.686</td>\n",
       "      <td>19980.2</td>\n",
       "      <td>0.01</td>\n",
       "      <td>19975.7</td>\n",
       "      <td>4.455</td>\n",
       "    </tr>\n",
       "  </tbody>\n",
       "</table>\n",
       "<p>5 rows × 42 columns</p>\n",
       "</div>"
      ],
      "text/plain": [
       "            receive_ts          exchange_ts  \\\n",
       "0  1655942402250125991  1655942402249000000   \n",
       "1  1655942402657844605  1655942402655000000   \n",
       "2  1655942403346968722  1655942403346000000   \n",
       "3  1655942404080791047  1655942404080000000   \n",
       "4  1655942404452706766  1655942404452000000   \n",
       "\n",
       "   btcusdt:Binance:LinearPerpetual_ask_price_0  \\\n",
       "0                                      19977.5   \n",
       "1                                      19977.5   \n",
       "2                                      19977.5   \n",
       "3                                      19977.5   \n",
       "4                                      19977.5   \n",
       "\n",
       "   btcusdt:Binance:LinearPerpetual_ask_vol_0  \\\n",
       "0                                      0.079   \n",
       "1                                      0.078   \n",
       "2                                      0.079   \n",
       "3                                      0.079   \n",
       "4                                      0.079   \n",
       "\n",
       "   btcusdt:Binance:LinearPerpetual_bid_price_0  \\\n",
       "0                                      19977.4   \n",
       "1                                      19977.4   \n",
       "2                                      19977.4   \n",
       "3                                      19977.4   \n",
       "4                                      19977.4   \n",
       "\n",
       "   btcusdt:Binance:LinearPerpetual_bid_vol_0  \\\n",
       "0                                     12.381   \n",
       "1                                     12.381   \n",
       "2                                     12.381   \n",
       "3                                     12.381   \n",
       "4                                     12.381   \n",
       "\n",
       "   btcusdt:Binance:LinearPerpetual_ask_price_1  \\\n",
       "0                                      19977.8   \n",
       "1                                      19977.8   \n",
       "2                                      19977.8   \n",
       "3                                      19977.8   \n",
       "4                                      19977.8   \n",
       "\n",
       "   btcusdt:Binance:LinearPerpetual_ask_vol_1  \\\n",
       "0                                      0.003   \n",
       "1                                      0.003   \n",
       "2                                      0.003   \n",
       "3                                      0.003   \n",
       "4                                      0.003   \n",
       "\n",
       "   btcusdt:Binance:LinearPerpetual_bid_price_1  \\\n",
       "0                                      19976.7   \n",
       "1                                      19977.3   \n",
       "2                                      19977.3   \n",
       "3                                      19977.3   \n",
       "4                                      19977.3   \n",
       "\n",
       "   btcusdt:Binance:LinearPerpetual_bid_vol_1  ...  \\\n",
       "0                                      0.066  ...   \n",
       "1                                      0.126  ...   \n",
       "2                                      0.126  ...   \n",
       "3                                      0.126  ...   \n",
       "4                                      0.126  ...   \n",
       "\n",
       "   btcusdt:Binance:LinearPerpetual_bid_price_7  \\\n",
       "0                                      19975.7   \n",
       "1                                      19975.9   \n",
       "2                                      19975.9   \n",
       "3                                      19975.9   \n",
       "4                                      19975.9   \n",
       "\n",
       "   btcusdt:Binance:LinearPerpetual_bid_vol_7  \\\n",
       "0                                      4.455   \n",
       "1                                      0.246   \n",
       "2                                      0.246   \n",
       "3                                      0.246   \n",
       "4                                      0.246   \n",
       "\n",
       "   btcusdt:Binance:LinearPerpetual_ask_price_8  \\\n",
       "0                                      19980.1   \n",
       "1                                      19980.1   \n",
       "2                                      19980.1   \n",
       "3                                      19980.1   \n",
       "4                                      19980.1   \n",
       "\n",
       "   btcusdt:Binance:LinearPerpetual_ask_vol_8  \\\n",
       "0                                       0.01   \n",
       "1                                       0.01   \n",
       "2                                       0.01   \n",
       "3                                       0.01   \n",
       "4                                       0.01   \n",
       "\n",
       "   btcusdt:Binance:LinearPerpetual_bid_price_8  \\\n",
       "0                                      19975.6   \n",
       "1                                      19975.8   \n",
       "2                                      19975.8   \n",
       "3                                      19975.8   \n",
       "4                                      19975.8   \n",
       "\n",
       "   btcusdt:Binance:LinearPerpetual_bid_vol_8  \\\n",
       "0                                      1.529   \n",
       "1                                      0.686   \n",
       "2                                      0.686   \n",
       "3                                      0.686   \n",
       "4                                      0.686   \n",
       "\n",
       "   btcusdt:Binance:LinearPerpetual_ask_price_9  \\\n",
       "0                                      19980.2   \n",
       "1                                      19980.2   \n",
       "2                                      19980.2   \n",
       "3                                      19980.2   \n",
       "4                                      19980.2   \n",
       "\n",
       "   btcusdt:Binance:LinearPerpetual_ask_vol_9  \\\n",
       "0                                       0.01   \n",
       "1                                       0.01   \n",
       "2                                       0.01   \n",
       "3                                       0.01   \n",
       "4                                       0.01   \n",
       "\n",
       "   btcusdt:Binance:LinearPerpetual_bid_price_9  \\\n",
       "0                                      19975.4   \n",
       "1                                      19975.7   \n",
       "2                                      19975.7   \n",
       "3                                      19975.7   \n",
       "4                                      19975.7   \n",
       "\n",
       "   btcusdt:Binance:LinearPerpetual_bid_vol_9  \n",
       "0                                      1.641  \n",
       "1                                      4.455  \n",
       "2                                      4.455  \n",
       "3                                      4.455  \n",
       "4                                      4.455  \n",
       "\n",
       "[5 rows x 42 columns]"
      ]
     },
     "metadata": {},
     "execution_count": 36
    }
   ],
   "metadata": {}
  },
  {
   "cell_type": "code",
   "execution_count": 38,
   "source": [
    "data['receive_ts'] = pd.to_datetime(data['receive_ts'])"
   ],
   "outputs": [],
   "metadata": {}
  },
  {
   "cell_type": "code",
   "execution_count": 40,
   "source": [
    "data.columns = [i.replace('btcusdt:Binance:LinearPerpetual_', '') for i in data.columns]"
   ],
   "outputs": [],
   "metadata": {}
  },
  {
   "cell_type": "code",
   "execution_count": 41,
   "source": [
    "data['ask_price_0'].describe()"
   ],
   "outputs": [
    {
     "output_type": "execute_result",
     "data": {
      "text/plain": [
       "count    200000.000000\n",
       "mean      20321.673109\n",
       "std         145.116098\n",
       "min       19875.000000\n",
       "25%       20259.100000\n",
       "50%       20362.900000\n",
       "75%       20419.100000\n",
       "max       20599.000000\n",
       "Name: ask_price_0, dtype: float64"
      ]
     },
     "metadata": {},
     "execution_count": 41
    }
   ],
   "metadata": {}
  },
  {
   "cell_type": "markdown",
   "source": [
    "Слишком большая дисперсия, которая будет все ломать, подставим корень из нее"
   ],
   "metadata": {}
  },
  {
   "cell_type": "code",
   "execution_count": 42,
   "source": [
    "# пройдемся по уровням стакана и посчитаем тотал объем\n",
    "data['total_vol_ask'] = 0\n",
    "data['total_vol_bid'] = 0\n",
    "for i in range(10):\n",
    "    data['total_vol_ask'] += data['ask_vol_' + str(i)]\n",
    "    data['total_vol_bid'] += data['bid_vol_' + str(i)]"
   ],
   "outputs": [],
   "metadata": {}
  },
  {
   "cell_type": "markdown",
   "source": [
    "$\\Delta P \\propto ln(Q)$\n",
    "\n",
    "$\\Delta P = k \\cdot ln(Q)$\n",
    "\n",
    "Найдем этот k\n",
    "\n",
    "Честно, тут не очень понял как его адекватно оценивать. Между двумя точками смотреть глупо, так как между ними могло бить движения что-то вроде +100 потом -100, в итоге цена на изменится, а объемы пройдут огромные. А может быть плато  маленькими объемами и дельтой по цене примерно ноль. Тогда k должны быть в этих случаях разная. Я сделал следующее: посчитал суммарный объем по биду и аску отдельно и смотрел на их разность. Например, большые объемы на покупку двигают цены наверх, на продажу наоборот. Получается, что если прошли большие объемы в обе стороны, будем предполагать, что цена не изменилась(что тоже неверно). Не понял как сделать по-другому"
   ],
   "metadata": {}
  },
  {
   "cell_type": "code",
   "execution_count": 47,
   "source": [
    "delta_p = data['ask_price_0'][10000] - data['ask_price_0'][0]\n",
    "delta_Q = data['bid_price_0'][10000] - data['bid_price_0'][0]\n",
    "\n",
    "\n",
    "K = abs(delta_p) / np.log(abs(delta_Q)) \n",
    "print(K)"
   ],
   "outputs": [
    {
     "output_type": "stream",
     "name": "stdout",
     "text": [
      "7.07353563655504\n"
     ]
    }
   ],
   "metadata": {}
  },
  {
   "cell_type": "markdown",
   "source": [
    "$ k = \\frac{\\alpha}{K}$\n",
    "\n",
    "Получаем $k = 0.21$ \n",
    "\n",
    "Закинем теперь эти два пареметра в модель "
   ],
   "metadata": {}
  },
  {
   "cell_type": "markdown",
   "source": [
    "Как оценивать альфу для биржи я не понял, возьму альфу из статьи $\\alpha = 1.5$\n",
    "\n",
    "Далее, мы получили коэффициенты, теперь построим P&L с этими двумя коэфами и разными гаммами"
   ],
   "metadata": {}
  },
  {
   "cell_type": "markdown",
   "source": [
    "Подставим $\\gamma = 0.1$"
   ],
   "metadata": {}
  },
  {
   "cell_type": "code",
   "execution_count": 49,
   "source": [
    "df = pd.read_csv('pnl.csv')\n",
    "dt = pd.to_datetime(df.receive_ts)\n",
    "plt.figure(figsize=(10, 5))\n",
    "plt.plot(dt, df.total, '-')\n",
    "plt.xlabel(\"time\", fontsize=13)\n",
    "plt.ylabel(\"PnL\", fontsize=13)\n",
    "plt.title(\"PnL for gamma = 0.1, sigma = 12, k = 0.21\", fontsize=15)\n",
    "plt.grid()\n",
    "plt.show()"
   ],
   "outputs": [
    {
     "output_type": "display_data",
     "data": {
      "image/png": "[encoded data removed]",
      "text/plain": [
       "<Figure size 720x360 with 1 Axes>"
      ]
     },
     "metadata": {
      "needs_background": "light"
     }
    }
   ],
   "metadata": {}
  },
  {
   "cell_type": "markdown",
   "source": [
    "Теперь $\\gamma = 0.5$"
   ],
   "metadata": {}
  },
  {
   "cell_type": "code",
   "execution_count": 50,
   "source": [
    "df = pd.read_csv('pnl.csv')\n",
    "dt = pd.to_datetime(df.receive_ts)\n",
    "plt.figure(figsize=(10, 5))\n",
    "plt.plot(dt, df.total, '-')\n",
    "plt.xlabel(\"time\", fontsize=13)\n",
    "plt.ylabel(\"PnL\", fontsize=13)\n",
    "plt.title(\"PnL for gamma = 0.5, sigma = 145, k = 0.21\", fontsize=15)\n",
    "plt.grid()\n",
    "plt.show()"
   ],
   "outputs": [
    {
     "output_type": "display_data",
     "data": {
      "image/png": "[encoded data removed]",
      "text/plain": [
       "<Figure size 720x360 with 1 Axes>"
      ]
     },
     "metadata": {
      "needs_background": "light"
     }
    }
   ],
   "metadata": {}
  },
  {
   "cell_type": "markdown",
   "source": [
    "Теперь $\\gamma = 1$"
   ],
   "metadata": {}
  },
  {
   "cell_type": "code",
   "execution_count": 51,
   "source": [
    "df = pd.read_csv('pnl.csv')\n",
    "dt = pd.to_datetime(df.receive_ts)\n",
    "plt.figure(figsize=(10, 5))\n",
    "plt.plot(dt, df.total, '-')\n",
    "plt.xlabel(\"time\", fontsize=13)\n",
    "plt.ylabel(\"PnL\", fontsize=13)\n",
    "plt.title(\"PnL for gamma = 1, sigma = 145, k = 0.21\", fontsize=15)\n",
    "plt.grid()\n",
    "plt.show()"
   ],
   "outputs": [
    {
     "output_type": "display_data",
     "data": {
      "image/png": "[encoded data removed]",
      "text/plain": [
       "<Figure size 720x360 with 1 Axes>"
      ]
     },
     "metadata": {
      "needs_background": "light"
     }
    }
   ],
   "metadata": {}
  }
 ],
 "metadata": {
  "orig_nbformat": 4,
  "language_info": {
   "name": "python",
   "version": "3.9.7",
   "mimetype": "text/x-python",
   "codemirror_mode": {
    "name": "ipython",
    "version": 3
   },
   "pygments_lexer": "ipython3",
   "nbconvert_exporter": "python",
   "file_extension": ".py"
  },
  "kernelspec": {
   "name": "python3",
   "display_name": "Python 3.9.7 64-bit ('base': conda)"
  },
  "interpreter": {
   "hash": "1eb2f067911a5ab716546c09d7f59ca375ff5029636eedb8c7d597a850bc679b"
  }
 },
 "nbformat": 4,
 "nbformat_minor": 2
}